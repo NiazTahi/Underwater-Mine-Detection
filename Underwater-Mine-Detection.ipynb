{
 "cells": [
  {
   "cell_type": "code",
   "execution_count": 1,
   "id": "8aa06285",
   "metadata": {
    "_cell_guid": "b1076dfc-b9ad-4769-8c92-a6c4dae69d19",
    "_kg_hide-output": true,
    "_uuid": "8f2839f25d086af736a60e9eeb907d3b93b6e0e5",
    "execution": {
     "iopub.execute_input": "2024-09-12T16:09:39.018897Z",
     "iopub.status.busy": "2024-09-12T16:09:39.018505Z",
     "iopub.status.idle": "2024-09-12T16:09:42.585146Z",
     "shell.execute_reply": "2024-09-12T16:09:42.584202Z"
    },
    "papermill": {
     "duration": 3.573255,
     "end_time": "2024-09-12T16:09:42.587566",
     "exception": false,
     "start_time": "2024-09-12T16:09:39.014311",
     "status": "completed"
    },
    "tags": []
   },
   "outputs": [
    {
     "name": "stdout",
     "output_type": "stream",
     "text": [
      "Cloning into 'ultralytics'...\r\n",
      "remote: Enumerating objects: 40650, done.\u001b[K\r\n",
      "remote: Counting objects: 100% (1297/1297), done.\u001b[K\r\n",
      "remote: Compressing objects: 100% (837/837), done.\u001b[K\r\n",
      "remote: Total 40650 (delta 827), reused 835 (delta 455), pack-reused 39353 (from 1)\u001b[K\r\n",
      "Receiving objects: 100% (40650/40650), 31.44 MiB | 32.55 MiB/s, done.\r\n",
      "Resolving deltas: 100% (29916/29916), done.\r\n"
     ]
    }
   ],
   "source": [
    "# Clone the ultralytics repository\n",
    "! git clone https://github.com/ultralytics/ultralytics"
   ]
  },
  {
   "cell_type": "code",
   "execution_count": 2,
   "id": "0a89e91e",
   "metadata": {
    "execution": {
     "iopub.execute_input": "2024-09-12T16:09:42.599978Z",
     "iopub.status.busy": "2024-09-12T16:09:42.599668Z",
     "iopub.status.idle": "2024-09-12T16:09:43.600220Z",
     "shell.execute_reply": "2024-09-12T16:09:43.598714Z"
    },
    "papermill": {
     "duration": 1.010049,
     "end_time": "2024-09-12T16:09:43.603351",
     "exception": false,
     "start_time": "2024-09-12T16:09:42.593302",
     "status": "completed"
    },
    "tags": []
   },
   "outputs": [
    {
     "name": "stdout",
     "output_type": "stream",
     "text": [
      "__notebook__.ipynb  \u001b[0m\u001b[01;34multralytics\u001b[0m/\r\n"
     ]
    }
   ],
   "source": [
    "ls"
   ]
  },
  {
   "cell_type": "code",
   "execution_count": 3,
   "id": "d59882fe",
   "metadata": {
    "execution": {
     "iopub.execute_input": "2024-09-12T16:09:43.620808Z",
     "iopub.status.busy": "2024-09-12T16:09:43.620455Z",
     "iopub.status.idle": "2024-09-12T16:09:43.627771Z",
     "shell.execute_reply": "2024-09-12T16:09:43.626505Z"
    },
    "papermill": {
     "duration": 0.019702,
     "end_time": "2024-09-12T16:09:43.630627",
     "exception": false,
     "start_time": "2024-09-12T16:09:43.610925",
     "status": "completed"
    },
    "tags": []
   },
   "outputs": [
    {
     "name": "stdout",
     "output_type": "stream",
     "text": [
      "/kaggle/working/ultralytics\n"
     ]
    }
   ],
   "source": [
    "cd ultralytics/"
   ]
  },
  {
   "cell_type": "code",
   "execution_count": 4,
   "id": "24510795",
   "metadata": {
    "_kg_hide-output": true,
    "execution": {
     "iopub.execute_input": "2024-09-12T16:09:43.643141Z",
     "iopub.status.busy": "2024-09-12T16:09:43.642853Z",
     "iopub.status.idle": "2024-09-12T16:10:13.906353Z",
     "shell.execute_reply": "2024-09-12T16:10:13.905320Z"
    },
    "papermill": {
     "duration": 30.272058,
     "end_time": "2024-09-12T16:10:13.908704",
     "exception": false,
     "start_time": "2024-09-12T16:09:43.636646",
     "status": "completed"
    },
    "tags": []
   },
   "outputs": [
    {
     "name": "stdout",
     "output_type": "stream",
     "text": [
      "Obtaining file:///kaggle/working/ultralytics\r\n",
      "  Installing build dependencies ... \u001b[?25l-\b \b\\\b \b|\b \b/\b \b-\b \bdone\r\n",
      "\u001b[?25h  Checking if build backend supports build_editable ... \u001b[?25ldone\r\n",
      "\u001b[?25h  Getting requirements to build editable ... \u001b[?25l-\b \bdone\r\n",
      "\u001b[?25h  Preparing editable metadata (pyproject.toml) ... \u001b[?25l-\b \bdone\r\n",
      "\u001b[?25hRequirement already satisfied: numpy<2.0.0,>=1.23.0 in /opt/conda/lib/python3.10/site-packages (from ultralytics==8.2.92) (1.26.4)\r\n",
      "Requirement already satisfied: matplotlib>=3.3.0 in /opt/conda/lib/python3.10/site-packages (from ultralytics==8.2.92) (3.7.5)\r\n",
      "Requirement already satisfied: opencv-python>=4.6.0 in /opt/conda/lib/python3.10/site-packages (from ultralytics==8.2.92) (4.10.0.84)\r\n",
      "Requirement already satisfied: pillow>=7.1.2 in /opt/conda/lib/python3.10/site-packages (from ultralytics==8.2.92) (9.5.0)\r\n",
      "Requirement already satisfied: pyyaml>=5.3.1 in /opt/conda/lib/python3.10/site-packages (from ultralytics==8.2.92) (6.0.2)\r\n",
      "Requirement already satisfied: requests>=2.23.0 in /opt/conda/lib/python3.10/site-packages (from ultralytics==8.2.92) (2.32.3)\r\n",
      "Requirement already satisfied: scipy>=1.4.1 in /opt/conda/lib/python3.10/site-packages (from ultralytics==8.2.92) (1.14.0)\r\n",
      "Requirement already satisfied: torch>=1.8.0 in /opt/conda/lib/python3.10/site-packages (from ultralytics==8.2.92) (2.4.0)\r\n",
      "Requirement already satisfied: torchvision>=0.9.0 in /opt/conda/lib/python3.10/site-packages (from ultralytics==8.2.92) (0.19.0)\r\n",
      "Requirement already satisfied: tqdm>=4.64.0 in /opt/conda/lib/python3.10/site-packages (from ultralytics==8.2.92) (4.66.4)\r\n",
      "Requirement already satisfied: psutil in /opt/conda/lib/python3.10/site-packages (from ultralytics==8.2.92) (5.9.3)\r\n",
      "Requirement already satisfied: py-cpuinfo in /opt/conda/lib/python3.10/site-packages (from ultralytics==8.2.92) (9.0.0)\r\n",
      "Requirement already satisfied: pandas>=1.1.4 in /opt/conda/lib/python3.10/site-packages (from ultralytics==8.2.92) (2.2.2)\r\n",
      "Requirement already satisfied: seaborn>=0.11.0 in /opt/conda/lib/python3.10/site-packages (from ultralytics==8.2.92) (0.12.2)\r\n",
      "Collecting ultralytics-thop>=2.0.0 (from ultralytics==8.2.92)\r\n",
      "  Downloading ultralytics_thop-2.0.6-py3-none-any.whl.metadata (9.1 kB)\r\n",
      "Requirement already satisfied: contourpy>=1.0.1 in /opt/conda/lib/python3.10/site-packages (from matplotlib>=3.3.0->ultralytics==8.2.92) (1.2.1)\r\n",
      "Requirement already satisfied: cycler>=0.10 in /opt/conda/lib/python3.10/site-packages (from matplotlib>=3.3.0->ultralytics==8.2.92) (0.12.1)\r\n",
      "Requirement already satisfied: fonttools>=4.22.0 in /opt/conda/lib/python3.10/site-packages (from matplotlib>=3.3.0->ultralytics==8.2.92) (4.53.0)\r\n",
      "Requirement already satisfied: kiwisolver>=1.0.1 in /opt/conda/lib/python3.10/site-packages (from matplotlib>=3.3.0->ultralytics==8.2.92) (1.4.5)\r\n",
      "Requirement already satisfied: packaging>=20.0 in /opt/conda/lib/python3.10/site-packages (from matplotlib>=3.3.0->ultralytics==8.2.92) (21.3)\r\n",
      "Requirement already satisfied: pyparsing>=2.3.1 in /opt/conda/lib/python3.10/site-packages (from matplotlib>=3.3.0->ultralytics==8.2.92) (3.1.2)\r\n",
      "Requirement already satisfied: python-dateutil>=2.7 in /opt/conda/lib/python3.10/site-packages (from matplotlib>=3.3.0->ultralytics==8.2.92) (2.9.0.post0)\r\n",
      "Requirement already satisfied: pytz>=2020.1 in /opt/conda/lib/python3.10/site-packages (from pandas>=1.1.4->ultralytics==8.2.92) (2024.1)\r\n",
      "Requirement already satisfied: tzdata>=2022.7 in /opt/conda/lib/python3.10/site-packages (from pandas>=1.1.4->ultralytics==8.2.92) (2024.1)\r\n",
      "Requirement already satisfied: charset-normalizer<4,>=2 in /opt/conda/lib/python3.10/site-packages (from requests>=2.23.0->ultralytics==8.2.92) (3.3.2)\r\n",
      "Requirement already satisfied: idna<4,>=2.5 in /opt/conda/lib/python3.10/site-packages (from requests>=2.23.0->ultralytics==8.2.92) (3.7)\r\n",
      "Requirement already satisfied: urllib3<3,>=1.21.1 in /opt/conda/lib/python3.10/site-packages (from requests>=2.23.0->ultralytics==8.2.92) (1.26.18)\r\n",
      "Requirement already satisfied: certifi>=2017.4.17 in /opt/conda/lib/python3.10/site-packages (from requests>=2.23.0->ultralytics==8.2.92) (2024.7.4)\r\n",
      "Requirement already satisfied: filelock in /opt/conda/lib/python3.10/site-packages (from torch>=1.8.0->ultralytics==8.2.92) (3.15.1)\r\n",
      "Requirement already satisfied: typing-extensions>=4.8.0 in /opt/conda/lib/python3.10/site-packages (from torch>=1.8.0->ultralytics==8.2.92) (4.12.2)\r\n",
      "Requirement already satisfied: sympy in /opt/conda/lib/python3.10/site-packages (from torch>=1.8.0->ultralytics==8.2.92) (1.13.2)\r\n",
      "Requirement already satisfied: networkx in /opt/conda/lib/python3.10/site-packages (from torch>=1.8.0->ultralytics==8.2.92) (3.3)\r\n",
      "Requirement already satisfied: jinja2 in /opt/conda/lib/python3.10/site-packages (from torch>=1.8.0->ultralytics==8.2.92) (3.1.4)\r\n",
      "Requirement already satisfied: fsspec in /opt/conda/lib/python3.10/site-packages (from torch>=1.8.0->ultralytics==8.2.92) (2024.6.1)\r\n",
      "Requirement already satisfied: six>=1.5 in /opt/conda/lib/python3.10/site-packages (from python-dateutil>=2.7->matplotlib>=3.3.0->ultralytics==8.2.92) (1.16.0)\r\n",
      "Requirement already satisfied: MarkupSafe>=2.0 in /opt/conda/lib/python3.10/site-packages (from jinja2->torch>=1.8.0->ultralytics==8.2.92) (2.1.5)\r\n",
      "Requirement already satisfied: mpmath<1.4,>=1.1.0 in /opt/conda/lib/python3.10/site-packages (from sympy->torch>=1.8.0->ultralytics==8.2.92) (1.3.0)\r\n",
      "Downloading ultralytics_thop-2.0.6-py3-none-any.whl (26 kB)\r\n",
      "Building wheels for collected packages: ultralytics\r\n",
      "  Building editable for ultralytics (pyproject.toml) ... \u001b[?25l-\b \b\\\b \bdone\r\n",
      "\u001b[?25h  Created wheel for ultralytics: filename=ultralytics-8.2.92-0.editable-py3-none-any.whl size=23169 sha256=e1c508bf6e1148b68354b1dd807742079d659a4cc39f9be323d2d6acfbf9dadc\r\n",
      "  Stored in directory: /tmp/pip-ephem-wheel-cache-_0n1b02j/wheels/1b/eb/7d/853f2df0532389050170c8cd117b40e1fef8d125854a910fe6\r\n",
      "Successfully built ultralytics\r\n",
      "Installing collected packages: ultralytics-thop, ultralytics\r\n",
      "Successfully installed ultralytics-8.2.92 ultralytics-thop-2.0.6\r\n"
     ]
    }
   ],
   "source": [
    "! pip install -e ."
   ]
  },
  {
   "cell_type": "code",
   "execution_count": 5,
   "id": "4f6a3079",
   "metadata": {
    "execution": {
     "iopub.execute_input": "2024-09-12T16:10:13.925725Z",
     "iopub.status.busy": "2024-09-12T16:10:13.925368Z",
     "iopub.status.idle": "2024-09-12T16:10:14.922038Z",
     "shell.execute_reply": "2024-09-12T16:10:14.920961Z"
    },
    "papermill": {
     "duration": 1.008197,
     "end_time": "2024-09-12T16:10:14.924696",
     "exception": false,
     "start_time": "2024-09-12T16:10:13.916499",
     "status": "completed"
    },
    "tags": []
   },
   "outputs": [],
   "source": [
    "! export MKL_SERVICE_FORCE_INTEL=1"
   ]
  },
  {
   "cell_type": "code",
   "execution_count": 6,
   "id": "a124ca5a",
   "metadata": {
    "execution": {
     "iopub.execute_input": "2024-09-12T16:10:14.941894Z",
     "iopub.status.busy": "2024-09-12T16:10:14.941557Z",
     "iopub.status.idle": "2024-09-12T16:10:14.945940Z",
     "shell.execute_reply": "2024-09-12T16:10:14.945092Z"
    },
    "papermill": {
     "duration": 0.015248,
     "end_time": "2024-09-12T16:10:14.947977",
     "exception": false,
     "start_time": "2024-09-12T16:10:14.932729",
     "status": "completed"
    },
    "tags": []
   },
   "outputs": [],
   "source": [
    "import os"
   ]
  },
  {
   "cell_type": "code",
   "execution_count": 7,
   "id": "4439de01",
   "metadata": {
    "execution": {
     "iopub.execute_input": "2024-09-12T16:10:14.964508Z",
     "iopub.status.busy": "2024-09-12T16:10:14.964171Z",
     "iopub.status.idle": "2024-09-12T17:41:12.421250Z",
     "shell.execute_reply": "2024-09-12T17:41:12.420258Z"
    },
    "papermill": {
     "duration": 5457.468052,
     "end_time": "2024-09-12T17:41:12.423715",
     "exception": false,
     "start_time": "2024-09-12T16:10:14.955663",
     "status": "completed"
    },
    "tags": []
   },
   "outputs": [
    {
     "name": "stdout",
     "output_type": "stream",
     "text": [
      "Downloading https://github.com/ultralytics/assets/releases/download/v8.2.0/yolov8m.pt to 'yolov8m.pt'...\r\n",
      "100%|███████████████████████████████████████| 49.7M/49.7M [00:00<00:00, 343MB/s]\r\n",
      "Ultralytics YOLOv8.2.92 🚀 Python-3.10.14 torch-2.4.0 CUDA:0 (Tesla P100-PCIE-16GB, 16269MiB)\r\n",
      "\u001b[34m\u001b[1mengine/trainer: \u001b[0mtask=detect, mode=train, model=yolov8m.pt, data=/kaggle/input/underwater-mine-dataset/data.yaml, epochs=30, time=None, patience=100, batch=0.85, imgsz=640, save=True, save_period=10, cache=False, device=0, workers=8, project=None, name=train, exist_ok=False, pretrained=True, optimizer=AdamW, verbose=True, seed=0, deterministic=True, single_cls=False, rect=False, cos_lr=False, close_mosaic=10, resume=False, amp=True, fraction=1.0, profile=False, freeze=None, multi_scale=False, overlap_mask=True, mask_ratio=4, dropout=0.0, val=True, split=val, save_json=False, save_hybrid=False, conf=None, iou=0.7, max_det=300, half=False, dnn=False, plots=True, source=None, vid_stride=1, stream_buffer=False, visualize=False, augment=False, agnostic_nms=False, classes=None, retina_masks=False, embed=None, show=False, save_frames=False, save_txt=False, save_conf=False, save_crop=False, show_labels=True, show_conf=True, show_boxes=True, line_width=None, format=torchscript, keras=False, optimize=False, int8=False, dynamic=False, simplify=False, opset=None, workspace=4, nms=False, lr0=0.001, lrf=0.01, momentum=0.937, weight_decay=0.0001, warmup_epochs=3.0, warmup_momentum=0.8, warmup_bias_lr=0.1, box=7.5, cls=0.5, dfl=1.5, pose=12.0, kobj=1.0, label_smoothing=0.0, nbs=64, hsv_h=0.015, hsv_s=0.7, hsv_v=0.4, degrees=0.0, translate=0.1, scale=0.5, shear=0.0, perspective=0.0, flipud=0.0, fliplr=0.5, bgr=0.0, mosaic=1.0, mixup=0.0, copy_paste=0.0, auto_augment=randaugment, erasing=0.4, crop_fraction=1.0, cfg=None, tracker=botsort.yaml, save_dir=/kaggle/working/ultralytics/runs/detect/train\r\n",
      "Downloading https://ultralytics.com/assets/Arial.ttf to '/root/.config/Ultralytics/Arial.ttf'...\r\n",
      "100%|████████████████████████████████████████| 755k/755k [00:00<00:00, 16.9MB/s]\r\n",
      "Overriding model.yaml nc=80 with nc=2\r\n",
      "\r\n",
      "                   from  n    params  module                                       arguments                     \r\n",
      "  0                  -1  1      1392  ultralytics.nn.modules.conv.Conv             [3, 48, 3, 2]                 \r\n",
      "  1                  -1  1     41664  ultralytics.nn.modules.conv.Conv             [48, 96, 3, 2]                \r\n",
      "  2                  -1  2    111360  ultralytics.nn.modules.block.C2f             [96, 96, 2, True]             \r\n",
      "  3                  -1  1    166272  ultralytics.nn.modules.conv.Conv             [96, 192, 3, 2]               \r\n",
      "  4                  -1  4    813312  ultralytics.nn.modules.block.C2f             [192, 192, 4, True]           \r\n",
      "  5                  -1  1    664320  ultralytics.nn.modules.conv.Conv             [192, 384, 3, 2]              \r\n",
      "  6                  -1  4   3248640  ultralytics.nn.modules.block.C2f             [384, 384, 4, True]           \r\n",
      "  7                  -1  1   1991808  ultralytics.nn.modules.conv.Conv             [384, 576, 3, 2]              \r\n",
      "  8                  -1  2   3985920  ultralytics.nn.modules.block.C2f             [576, 576, 2, True]           \r\n",
      "  9                  -1  1    831168  ultralytics.nn.modules.block.SPPF            [576, 576, 5]                 \r\n",
      " 10                  -1  1         0  torch.nn.modules.upsampling.Upsample         [None, 2, 'nearest']          \r\n",
      " 11             [-1, 6]  1         0  ultralytics.nn.modules.conv.Concat           [1]                           \r\n",
      " 12                  -1  2   1993728  ultralytics.nn.modules.block.C2f             [960, 384, 2]                 \r\n",
      " 13                  -1  1         0  torch.nn.modules.upsampling.Upsample         [None, 2, 'nearest']          \r\n",
      " 14             [-1, 4]  1         0  ultralytics.nn.modules.conv.Concat           [1]                           \r\n",
      " 15                  -1  2    517632  ultralytics.nn.modules.block.C2f             [576, 192, 2]                 \r\n",
      " 16                  -1  1    332160  ultralytics.nn.modules.conv.Conv             [192, 192, 3, 2]              \r\n",
      " 17            [-1, 12]  1         0  ultralytics.nn.modules.conv.Concat           [1]                           \r\n",
      " 18                  -1  2   1846272  ultralytics.nn.modules.block.C2f             [576, 384, 2]                 \r\n",
      " 19                  -1  1   1327872  ultralytics.nn.modules.conv.Conv             [384, 384, 3, 2]              \r\n",
      " 20             [-1, 9]  1         0  ultralytics.nn.modules.conv.Concat           [1]                           \r\n",
      " 21                  -1  2   4207104  ultralytics.nn.modules.block.C2f             [960, 576, 2]                 \r\n",
      " 22        [15, 18, 21]  1   3776854  ultralytics.nn.modules.head.Detect           [2, [192, 384, 576]]          \r\n",
      "Model summary: 295 layers, 25,857,478 parameters, 25,857,462 gradients, 79.1 GFLOPs\r\n",
      "\r\n",
      "Transferred 469/475 items from pretrained weights\r\n",
      "\u001b[34m\u001b[1mTensorBoard: \u001b[0mStart with 'tensorboard --logdir /kaggle/working/ultralytics/runs/detect/train', view at http://localhost:6006/\r\n",
      "\u001b[34m\u001b[1mwandb\u001b[0m: Tracking run with wandb version 0.17.7\r\n",
      "\u001b[34m\u001b[1mwandb\u001b[0m: W&B syncing is set to \u001b[1m`offline`\u001b[0m in this directory.  \r\n",
      "\u001b[34m\u001b[1mwandb\u001b[0m: Run \u001b[1m`wandb online`\u001b[0m or set \u001b[1mWANDB_MODE=online\u001b[0m to enable cloud syncing.\r\n",
      "Freezing layer 'model.22.dfl.conv.weight'\r\n",
      "\u001b[34m\u001b[1mAMP: \u001b[0mrunning Automatic Mixed Precision (AMP) checks with YOLOv8n...\r\n",
      "Downloading https://github.com/ultralytics/assets/releases/download/v8.2.0/yolov8n.pt to 'yolov8n.pt'...\r\n",
      "100%|██████████████████████████████████████| 6.25M/6.25M [00:00<00:00, 86.8MB/s]\r\n",
      "\u001b[34m\u001b[1mAMP: \u001b[0mchecks passed ✅\r\n",
      "\u001b[34m\u001b[1mAutoBatch: \u001b[0mComputing optimal batch size for imgsz=640 at 85.0% CUDA memory utilization.\r\n",
      "\u001b[34m\u001b[1mAutoBatch: \u001b[0mCUDA:0 (Tesla P100-PCIE-16GB) 15.89G total, 0.26G reserved, 0.24G allocated, 15.39G free\r\n",
      "      Params      GFLOPs  GPU_mem (GB)  forward (ms) backward (ms)                   input                  output\r\n",
      "    25857478       79.07         0.694         35.76         78.53        (1, 3, 640, 640)                    list\r\n",
      "    25857478       158.1         1.021         31.64         55.12        (2, 3, 640, 640)                    list\r\n",
      "    25857478       316.3         2.162         52.67         98.04        (4, 3, 640, 640)                    list\r\n",
      "    25857478       632.6         3.634         97.85         130.4        (8, 3, 640, 640)                    list\r\n",
      "    25857478        1265         6.528         167.4         214.5       (16, 3, 640, 640)                    list\r\n",
      "\u001b[34m\u001b[1mAutoBatch: \u001b[0mUsing batch-size 32 for CUDA:0 13.34G/15.89G (84%) ✅\r\n",
      "\u001b[34m\u001b[1mtrain: \u001b[0mScanning /kaggle/input/underwater-mine-dataset/underwater-mine-dataset/un\u001b[0m\r\n",
      "\u001b[34m\u001b[1mtrain: \u001b[0mWARNING ⚠️ Cache directory /kaggle/input/underwater-mine-dataset/underwater-mine-dataset/underwater-mine-dataset/labels is not writeable, cache not saved.\r\n",
      "\u001b[34m\u001b[1malbumentations: \u001b[0mBlur(p=0.01, blur_limit=(3, 7)), MedianBlur(p=0.01, blur_limit=(3, 7)), ToGray(p=0.01), CLAHE(p=0.01, clip_limit=(1, 4.0), tile_grid_size=(8, 8))\r\n",
      "/opt/conda/lib/python3.10/multiprocessing/popen_fork.py:66: RuntimeWarning: os.fork() was called. os.fork() is incompatible with multithreaded code, and JAX is multithreaded, so this will likely lead to a deadlock.\r\n",
      "  self.pid = os.fork()\r\n",
      "\u001b[34m\u001b[1mval: \u001b[0mScanning /kaggle/input/underwater-mine-dataset/underwater-mine-dataset/unde\u001b[0m\r\n",
      "\u001b[34m\u001b[1mval: \u001b[0mWARNING ⚠️ Cache directory /kaggle/input/underwater-mine-dataset/underwater-mine-dataset/underwater-mine-dataset/labels is not writeable, cache not saved.\r\n",
      "Plotting labels to /kaggle/working/ultralytics/runs/detect/train/labels.jpg... \r\n",
      "\u001b[34m\u001b[1moptimizer:\u001b[0m AdamW(lr=0.001, momentum=0.937) with parameter groups 77 weight(decay=0.0), 84 weight(decay=0.0001), 83 bias(decay=0.0)\r\n",
      "\u001b[34m\u001b[1mTensorBoard: \u001b[0mmodel graph visualization added ✅\r\n",
      "Image sizes 640 train, 640 val\r\n",
      "Using 4 dataloader workers\r\n",
      "Logging results to \u001b[1m/kaggle/working/ultralytics/runs/detect/train\u001b[0m\r\n",
      "Starting training for 30 epochs...\r\n",
      "\r\n",
      "      Epoch    GPU_mem   box_loss   cls_loss   dfl_loss  Instances       Size\r\n",
      "       1/30      15.1G      1.328      1.496      1.542         54        640: 1\r\n",
      "                 Class     Images  Instances      Box(P          R      mAP50  m\r\n",
      "                   all        749       1383      0.292      0.265      0.206      0.104\r\n",
      "\r\n",
      "      Epoch    GPU_mem   box_loss   cls_loss   dfl_loss  Instances       Size\r\n",
      "       2/30      14.9G      1.313      1.313       1.54         47        640: 1\r\n",
      "                 Class     Images  Instances      Box(P          R      mAP50  m\r\n",
      "                   all        749       1383       0.45       0.47      0.438      0.226\r\n",
      "\r\n",
      "      Epoch    GPU_mem   box_loss   cls_loss   dfl_loss  Instances       Size\r\n",
      "       3/30        15G      1.269      1.183      1.506         78        640: 1\r\n",
      "                 Class     Images  Instances      Box(P          R      mAP50  m\r\n",
      "                   all        749       1383      0.477      0.432      0.443      0.239\r\n",
      "\r\n",
      "      Epoch    GPU_mem   box_loss   cls_loss   dfl_loss  Instances       Size\r\n",
      "       4/30      14.9G      1.219      1.127      1.471         34        640: 1\r\n",
      "                 Class     Images  Instances      Box(P          R      mAP50  m\r\n",
      "                   all        749       1383      0.567      0.552      0.541      0.314\r\n",
      "\r\n",
      "      Epoch    GPU_mem   box_loss   cls_loss   dfl_loss  Instances       Size\r\n",
      "       5/30        15G      1.171       1.04      1.441         31        640: 1\r\n",
      "                 Class     Images  Instances      Box(P          R      mAP50  m\r\n",
      "                   all        749       1383      0.535      0.556      0.538      0.326\r\n",
      "\r\n",
      "      Epoch    GPU_mem   box_loss   cls_loss   dfl_loss  Instances       Size\r\n",
      "       6/30      14.9G      1.113     0.9577       1.39         28        640: 1\r\n",
      "                 Class     Images  Instances      Box(P          R      mAP50  m\r\n",
      "                   all        749       1383      0.654      0.566      0.602      0.372\r\n",
      "\r\n",
      "      Epoch    GPU_mem   box_loss   cls_loss   dfl_loss  Instances       Size\r\n",
      "       7/30      15.1G      1.075     0.8982      1.362         37        640: 1\r\n",
      "                 Class     Images  Instances      Box(P          R      mAP50  m\r\n",
      "                   all        749       1383      0.585      0.568      0.574      0.341\r\n",
      "\r\n",
      "      Epoch    GPU_mem   box_loss   cls_loss   dfl_loss  Instances       Size\r\n",
      "       8/30      14.9G      1.052     0.8548      1.345         29        640: 1\r\n",
      "                 Class     Images  Instances      Box(P          R      mAP50  m\r\n",
      "                   all        749       1383      0.681      0.638      0.651      0.395\r\n",
      "\r\n",
      "      Epoch    GPU_mem   box_loss   cls_loss   dfl_loss  Instances       Size\r\n",
      "       9/30        15G      1.018     0.8012      1.323         35        640: 1\r\n",
      "                 Class     Images  Instances      Box(P          R      mAP50  m\r\n",
      "                   all        749       1383      0.721      0.621      0.658       0.41\r\n",
      "\r\n",
      "      Epoch    GPU_mem   box_loss   cls_loss   dfl_loss  Instances       Size\r\n",
      "      10/30      14.9G     0.9709     0.7469      1.284         40        640: 1\r\n",
      "                 Class     Images  Instances      Box(P          R      mAP50  m\r\n",
      "                   all        749       1383        0.7      0.634      0.667      0.421\r\n",
      "\r\n",
      "      Epoch    GPU_mem   box_loss   cls_loss   dfl_loss  Instances       Size\r\n",
      "      11/30        15G     0.9582      0.714      1.272         32        640: 1\r\n",
      "                 Class     Images  Instances      Box(P          R      mAP50  m\r\n",
      "                   all        749       1383       0.68      0.674       0.68      0.415\r\n",
      "\r\n",
      "      Epoch    GPU_mem   box_loss   cls_loss   dfl_loss  Instances       Size\r\n",
      "      12/30      14.9G     0.9338     0.6977      1.258         33        640: 1\r\n",
      "                 Class     Images  Instances      Box(P          R      mAP50  m\r\n",
      "                   all        749       1383      0.677      0.668      0.668      0.414\r\n",
      "\r\n",
      "      Epoch    GPU_mem   box_loss   cls_loss   dfl_loss  Instances       Size\r\n",
      "      13/30        15G     0.9128     0.6717      1.246         40        640: 1\r\n",
      "                 Class     Images  Instances      Box(P          R      mAP50  m\r\n",
      "                   all        749       1383      0.719      0.639      0.665      0.423\r\n",
      "\r\n",
      "      Epoch    GPU_mem   box_loss   cls_loss   dfl_loss  Instances       Size\r\n",
      "      14/30      14.9G     0.8842     0.6365      1.223         38        640: 1\r\n",
      "                 Class     Images  Instances      Box(P          R      mAP50  m\r\n",
      "                   all        749       1383      0.726      0.637      0.676       0.43\r\n",
      "\r\n",
      "      Epoch    GPU_mem   box_loss   cls_loss   dfl_loss  Instances       Size\r\n",
      "      15/30        15G      0.852     0.6007      1.199         33        640: 1\r\n",
      "                 Class     Images  Instances      Box(P          R      mAP50  m\r\n",
      "                   all        749       1383       0.72      0.673      0.689      0.449\r\n",
      "\r\n",
      "      Epoch    GPU_mem   box_loss   cls_loss   dfl_loss  Instances       Size\r\n",
      "      16/30      14.9G     0.8424     0.5936      1.191         22        640: 1\r\n",
      "                 Class     Images  Instances      Box(P          R      mAP50  m\r\n",
      "                   all        749       1383      0.751      0.682      0.715      0.455\r\n",
      "\r\n",
      "      Epoch    GPU_mem   box_loss   cls_loss   dfl_loss  Instances       Size\r\n",
      "      17/30        15G     0.8137      0.563       1.17         48        640: 1\r\n",
      "                 Class     Images  Instances      Box(P          R      mAP50  m\r\n",
      "                   all        749       1383      0.683      0.672      0.648      0.409\r\n",
      "\r\n",
      "      Epoch    GPU_mem   box_loss   cls_loss   dfl_loss  Instances       Size\r\n",
      "      18/30      14.9G     0.8027      0.548      1.163         48        640: 1\r\n",
      "                 Class     Images  Instances      Box(P          R      mAP50  m\r\n",
      "                   all        749       1383      0.746      0.682      0.694      0.457\r\n",
      "\r\n",
      "      Epoch    GPU_mem   box_loss   cls_loss   dfl_loss  Instances       Size\r\n",
      "      19/30        15G     0.7813     0.5255      1.145         32        640: 1\r\n",
      "                 Class     Images  Instances      Box(P          R      mAP50  m\r\n",
      "                   all        749       1383      0.775      0.688      0.711      0.461\r\n",
      "\r\n",
      "      Epoch    GPU_mem   box_loss   cls_loss   dfl_loss  Instances       Size\r\n",
      "      20/30      14.9G     0.7596     0.5069      1.134         34        640: 1\r\n",
      "                 Class     Images  Instances      Box(P          R      mAP50  m\r\n",
      "                   all        749       1383      0.749      0.699       0.71      0.462\r\n",
      "Closing dataloader mosaic\r\n",
      "\u001b[34m\u001b[1malbumentations: \u001b[0mBlur(p=0.01, blur_limit=(3, 7)), MedianBlur(p=0.01, blur_limit=(3, 7)), ToGray(p=0.01), CLAHE(p=0.01, clip_limit=(1, 4.0), tile_grid_size=(8, 8))\r\n",
      "/opt/conda/lib/python3.10/multiprocessing/popen_fork.py:66: RuntimeWarning: os.fork() was called. os.fork() is incompatible with multithreaded code, and JAX is multithreaded, so this will likely lead to a deadlock.\r\n",
      "  self.pid = os.fork()\r\n",
      "\r\n",
      "      Epoch    GPU_mem   box_loss   cls_loss   dfl_loss  Instances       Size\r\n",
      "      21/30      15.1G     0.7155     0.4248      1.118         26        640: 1\r\n",
      "                 Class     Images  Instances      Box(P          R      mAP50  m\r\n",
      "                   all        749       1383      0.742      0.689      0.695       0.46\r\n",
      "\r\n",
      "      Epoch    GPU_mem   box_loss   cls_loss   dfl_loss  Instances       Size\r\n",
      "      22/30      14.9G     0.6836     0.3904      1.097         19        640: 1\r\n",
      "                 Class     Images  Instances      Box(P          R      mAP50  m\r\n",
      "                   all        749       1383      0.746      0.662      0.689      0.459\r\n",
      "\r\n",
      "      Epoch    GPU_mem   box_loss   cls_loss   dfl_loss  Instances       Size\r\n",
      "      23/30        15G      0.646     0.3711      1.074         27        640: 1\r\n",
      "                 Class     Images  Instances      Box(P          R      mAP50  m\r\n",
      "                   all        749       1383       0.77      0.679       0.71      0.474\r\n",
      "\r\n",
      "      Epoch    GPU_mem   box_loss   cls_loss   dfl_loss  Instances       Size\r\n",
      "      24/30      14.9G     0.6381     0.3542      1.074         18        640: 1\r\n",
      "                 Class     Images  Instances      Box(P          R      mAP50  m\r\n",
      "                   all        749       1383      0.799      0.697      0.727      0.491\r\n",
      "\r\n",
      "      Epoch    GPU_mem   box_loss   cls_loss   dfl_loss  Instances       Size\r\n",
      "      25/30      15.1G     0.6185     0.3432      1.063         11        640: 1\r\n",
      "                 Class     Images  Instances      Box(P          R      mAP50  m\r\n",
      "                   all        749       1383      0.747      0.703      0.727        0.5\r\n",
      "\r\n",
      "      Epoch    GPU_mem   box_loss   cls_loss   dfl_loss  Instances       Size\r\n",
      "      26/30      14.9G     0.5896     0.3245      1.038         25        640: 1\r\n",
      "                 Class     Images  Instances      Box(P          R      mAP50  m\r\n",
      "                   all        749       1383      0.752      0.685      0.718      0.486\r\n",
      "\r\n",
      "      Epoch    GPU_mem   box_loss   cls_loss   dfl_loss  Instances       Size\r\n",
      "      27/30        15G     0.5671     0.3123      1.019         13        640: 1\r\n",
      "                 Class     Images  Instances      Box(P          R      mAP50  m\r\n",
      "                   all        749       1383      0.775      0.691      0.733      0.497\r\n",
      "\r\n",
      "      Epoch    GPU_mem   box_loss   cls_loss   dfl_loss  Instances       Size\r\n",
      "      28/30      14.9G       0.55     0.3031      1.011         20        640: 1\r\n",
      "                 Class     Images  Instances      Box(P          R      mAP50  m\r\n",
      "                   all        749       1383      0.749      0.695      0.722      0.501\r\n",
      "\r\n",
      "      Epoch    GPU_mem   box_loss   cls_loss   dfl_loss  Instances       Size\r\n",
      "      29/30        15G     0.5271     0.2875     0.9999         14        640: 1\r\n",
      "                 Class     Images  Instances      Box(P          R      mAP50  m\r\n",
      "                   all        749       1383      0.746      0.692      0.721      0.503\r\n",
      "\r\n",
      "      Epoch    GPU_mem   box_loss   cls_loss   dfl_loss  Instances       Size\r\n",
      "      30/30      14.9G     0.5101     0.2783     0.9917         20        640: 1\r\n",
      "                 Class     Images  Instances      Box(P          R      mAP50  m\r\n",
      "                   all        749       1383      0.773      0.696      0.728      0.507\r\n",
      "\r\n",
      "30 epochs completed in 1.486 hours.\r\n",
      "Optimizer stripped from /kaggle/working/ultralytics/runs/detect/train/weights/last.pt, 52.0MB\r\n",
      "Optimizer stripped from /kaggle/working/ultralytics/runs/detect/train/weights/best.pt, 52.0MB\r\n",
      "\r\n",
      "Validating /kaggle/working/ultralytics/runs/detect/train/weights/best.pt...\r\n",
      "Ultralytics YOLOv8.2.92 🚀 Python-3.10.14 torch-2.4.0 CUDA:0 (Tesla P100-PCIE-16GB, 16269MiB)\r\n",
      "Model summary (fused): 218 layers, 25,840,918 parameters, 0 gradients, 78.7 GFLOPs\r\n",
      "                 Class     Images  Instances      Box(P          R      mAP50  m\r\n",
      "                   all        749       1383      0.773      0.696      0.728      0.507\r\n",
      "                  mine        569        818      0.877      0.967      0.957      0.675\r\n",
      "              not_mine        214        565      0.669      0.425      0.498      0.339\r\n",
      "Speed: 0.2ms preprocess, 10.3ms inference, 0.0ms loss, 1.2ms postprocess per image\r\n",
      "Results saved to \u001b[1m/kaggle/working/ultralytics/runs/detect/train\u001b[0m\r\n",
      "\u001b[34m\u001b[1mwandb\u001b[0m:                                                                                \r\n",
      "\u001b[34m\u001b[1mwandb\u001b[0m: \r\n",
      "\u001b[34m\u001b[1mwandb\u001b[0m: Run history:\r\n",
      "\u001b[34m\u001b[1mwandb\u001b[0m:                  lr/pg0 █▅▁▁▁▁▁▁▁▁▁▁▁▁▁▁▁▁▁▁▁▁▁▁▁▁▁▁▁▁\r\n",
      "\u001b[34m\u001b[1mwandb\u001b[0m:                  lr/pg1 ▃▆██▇▇▇▇▆▆▆▆▅▅▅▅▄▄▄▄▃▃▃▃▂▂▂▂▁▁\r\n",
      "\u001b[34m\u001b[1mwandb\u001b[0m:                  lr/pg2 ▃▆██▇▇▇▇▆▆▆▆▅▅▅▅▄▄▄▄▃▃▃▃▂▂▂▂▁▁\r\n",
      "\u001b[34m\u001b[1mwandb\u001b[0m:        metrics/mAP50(B) ▁▄▄▅▅▆▆▇▇▇▇▇▇▇▇█▇▇███▇████████\r\n",
      "\u001b[34m\u001b[1mwandb\u001b[0m:     metrics/mAP50-95(B) ▁▃▃▅▅▆▅▆▆▇▆▆▇▇▇▇▆▇▇▇▇▇▇███████\r\n",
      "\u001b[34m\u001b[1mwandb\u001b[0m:    metrics/precision(B) ▁▃▄▅▄▆▅▆▇▇▆▆▇▇▇▇▆▇█▇▇▇██▇▇█▇▇█\r\n",
      "\u001b[34m\u001b[1mwandb\u001b[0m:       metrics/recall(B) ▁▄▄▆▆▆▆▇▇▇█▇▇▇██▇████▇████████\r\n",
      "\u001b[34m\u001b[1mwandb\u001b[0m:            model/GFLOPs ▁\r\n",
      "\u001b[34m\u001b[1mwandb\u001b[0m:        model/parameters ▁\r\n",
      "\u001b[34m\u001b[1mwandb\u001b[0m: model/speed_PyTorch(ms) ▁\r\n",
      "\u001b[34m\u001b[1mwandb\u001b[0m:          train/box_loss ██▇▇▇▆▆▆▅▅▅▅▄▄▄▄▄▄▃▃▃▂▂▂▂▂▁▁▁▁\r\n",
      "\u001b[34m\u001b[1mwandb\u001b[0m:          train/cls_loss █▇▆▆▅▅▅▄▄▄▄▃▃▃▃▃▃▃▂▂▂▂▂▁▁▁▁▁▁▁\r\n",
      "\u001b[34m\u001b[1mwandb\u001b[0m:          train/dfl_loss ███▇▇▆▆▅▅▅▅▄▄▄▄▄▃▃▃▃▃▂▂▂▂▂▁▁▁▁\r\n",
      "\u001b[34m\u001b[1mwandb\u001b[0m:            val/box_loss █▅▅▃▃▃▃▃▂▂▂▂▂▂▂▂▂▂▂▂▂▁▂▁▁▁▁▁▁▁\r\n",
      "\u001b[34m\u001b[1mwandb\u001b[0m:            val/cls_loss █▄▄▄▂▂▂▁▁▁▂▁▁▁▁▁▁▁▁▁▁▁▁▁▁▁▁▁▁▁\r\n",
      "\u001b[34m\u001b[1mwandb\u001b[0m:            val/dfl_loss █▄▄▂▂▂▂▂▂▁▁▁▁▁▁▁▁▁▁▁▁▁▁▁▁▁▁▁▁▁\r\n",
      "\u001b[34m\u001b[1mwandb\u001b[0m: \r\n",
      "\u001b[34m\u001b[1mwandb\u001b[0m: Run summary:\r\n",
      "\u001b[34m\u001b[1mwandb\u001b[0m:                  lr/pg0 4e-05\r\n",
      "\u001b[34m\u001b[1mwandb\u001b[0m:                  lr/pg1 4e-05\r\n",
      "\u001b[34m\u001b[1mwandb\u001b[0m:                  lr/pg2 4e-05\r\n",
      "\u001b[34m\u001b[1mwandb\u001b[0m:        metrics/mAP50(B) 0.72766\r\n",
      "\u001b[34m\u001b[1mwandb\u001b[0m:     metrics/mAP50-95(B) 0.50671\r\n",
      "\u001b[34m\u001b[1mwandb\u001b[0m:    metrics/precision(B) 0.77315\r\n",
      "\u001b[34m\u001b[1mwandb\u001b[0m:       metrics/recall(B) 0.69589\r\n",
      "\u001b[34m\u001b[1mwandb\u001b[0m:            model/GFLOPs 79.069\r\n",
      "\u001b[34m\u001b[1mwandb\u001b[0m:        model/parameters 25857478\r\n",
      "\u001b[34m\u001b[1mwandb\u001b[0m: model/speed_PyTorch(ms) 10.115\r\n",
      "\u001b[34m\u001b[1mwandb\u001b[0m:          train/box_loss 0.51006\r\n",
      "\u001b[34m\u001b[1mwandb\u001b[0m:          train/cls_loss 0.27828\r\n",
      "\u001b[34m\u001b[1mwandb\u001b[0m:          train/dfl_loss 0.99169\r\n",
      "\u001b[34m\u001b[1mwandb\u001b[0m:            val/box_loss 1.2616\r\n",
      "\u001b[34m\u001b[1mwandb\u001b[0m:            val/cls_loss 0.96568\r\n",
      "\u001b[34m\u001b[1mwandb\u001b[0m:            val/dfl_loss 1.70653\r\n",
      "\u001b[34m\u001b[1mwandb\u001b[0m: \r\n",
      "\u001b[34m\u001b[1mwandb\u001b[0m: You can sync this run to the cloud by running:\r\n",
      "\u001b[34m\u001b[1mwandb\u001b[0m: \u001b[1mwandb sync /kaggle/working/ultralytics/wandb/offline-run-20240912_161040-5ztvqsea\u001b[0m\r\n",
      "\u001b[34m\u001b[1mwandb\u001b[0m: Find logs at: \u001b[35m\u001b[1m./wandb/offline-run-20240912_161040-5ztvqsea/logs\u001b[0m\r\n",
      "\u001b[34m\u001b[1mwandb\u001b[0m: \u001b[33mWARNING\u001b[0m The new W&B backend becomes opt-out in version 0.18.0; try it out with `wandb.require(\"core\")`! See https://wandb.me/wandb-core for more information.\r\n",
      "💡 Learn more at https://docs.ultralytics.com/modes/train\r\n"
     ]
    }
   ],
   "source": [
    "os.environ['WANDB_DISABLED'] = 'true'\n",
    "! yolo detect train data=/kaggle/input/underwater-mine-dataset/data.yaml model=yolov8m.pt epochs=30 imgsz=640 batch=0.85 save_period=10 device=0 pretrained=True optimizer=AdamW seed=0 lr0=1e-3 weight_decay=1e-4 val=True plots=True"
   ]
  }
 ],
 "metadata": {
  "kaggle": {
   "accelerator": "gpu",
   "dataSources": [
    {
     "datasetId": 5684743,
     "sourceId": 9372859,
     "sourceType": "datasetVersion"
    }
   ],
   "dockerImageVersionId": 30762,
   "isGpuEnabled": true,
   "isInternetEnabled": true,
   "language": "python",
   "sourceType": "notebook"
  },
  "kernelspec": {
   "display_name": "Python 3",
   "language": "python",
   "name": "python3"
  },
  "language_info": {
   "codemirror_mode": {
    "name": "ipython",
    "version": 3
   },
   "file_extension": ".py",
   "mimetype": "text/x-python",
   "name": "python",
   "nbconvert_exporter": "python",
   "pygments_lexer": "ipython3",
   "version": "3.10.14"
  },
  "papermill": {
   "default_parameters": {},
   "duration": 5496.788272,
   "end_time": "2024-09-12T17:41:13.070924",
   "environment_variables": {},
   "exception": null,
   "input_path": "__notebook__.ipynb",
   "output_path": "__notebook__.ipynb",
   "parameters": {},
   "start_time": "2024-09-12T16:09:36.282652",
   "version": "2.6.0"
  }
 },
 "nbformat": 4,
 "nbformat_minor": 5
}
